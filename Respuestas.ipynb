{
 "cells": [
  {
   "cell_type": "code",
   "execution_count": 1,
   "id": "fcdbd415",
   "metadata": {},
   "outputs": [],
   "source": [
    "import pandas as pd"
   ]
  },
  {
   "cell_type": "code",
   "execution_count": 15,
   "id": "eb19e0af",
   "metadata": {},
   "outputs": [],
   "source": [
    "df = pd.read_csv(\"data.csv\", sep=\";\")"
   ]
  },
  {
   "cell_type": "code",
   "execution_count": 4,
   "id": "e77d12a7",
   "metadata": {},
   "outputs": [
    {
     "data": {
      "text/html": [
       "<div>\n",
       "<style scoped>\n",
       "    .dataframe tbody tr th:only-of-type {\n",
       "        vertical-align: middle;\n",
       "    }\n",
       "\n",
       "    .dataframe tbody tr th {\n",
       "        vertical-align: top;\n",
       "    }\n",
       "\n",
       "    .dataframe thead th {\n",
       "        text-align: right;\n",
       "    }\n",
       "</style>\n",
       "<table border=\"1\" class=\"dataframe\">\n",
       "  <thead>\n",
       "    <tr style=\"text-align: right;\">\n",
       "      <th></th>\n",
       "      <th>E\\t1\\t1999-02-28\\tb,g,f\\tjjj:12,bbb:3,ddd:9,ggg:8,hhh:2</th>\n",
       "    </tr>\n",
       "  </thead>\n",
       "  <tbody>\n",
       "    <tr>\n",
       "      <th>count</th>\n",
       "      <td>39</td>\n",
       "    </tr>\n",
       "    <tr>\n",
       "      <th>unique</th>\n",
       "      <td>39</td>\n",
       "    </tr>\n",
       "    <tr>\n",
       "      <th>top</th>\n",
       "      <td>A\\t2\\t1999-10-28\\ta,f,c\\tccc:2,ddd:0,aaa:3,hhh:9</td>\n",
       "    </tr>\n",
       "    <tr>\n",
       "      <th>freq</th>\n",
       "      <td>1</td>\n",
       "    </tr>\n",
       "  </tbody>\n",
       "</table>\n",
       "</div>"
      ],
      "text/plain": [
       "       E\\t1\\t1999-02-28\\tb,g,f\\tjjj:12,bbb:3,ddd:9,ggg:8,hhh:2\n",
       "count                                                  39     \n",
       "unique                                                 39     \n",
       "top      A\\t2\\t1999-10-28\\ta,f,c\\tccc:2,ddd:0,aaa:3,hhh:9     \n",
       "freq                                                    1     "
      ]
     },
     "execution_count": 4,
     "metadata": {},
     "output_type": "execute_result"
    }
   ],
   "source": [
    "df.describe()"
   ]
  },
  {
   "cell_type": "code",
   "execution_count": 7,
   "id": "36e12d2e",
   "metadata": {},
   "outputs": [
    {
     "data": {
      "text/plain": [
       "39"
      ]
     },
     "execution_count": 7,
     "metadata": {},
     "output_type": "execute_result"
    }
   ],
   "source": [
    "len(df)"
   ]
  },
  {
   "cell_type": "code",
   "execution_count": 16,
   "id": "78cf0982",
   "metadata": {},
   "outputs": [
    {
     "name": "stdout",
     "output_type": "stream",
     "text": [
      "Index(['E\\t1\\t1999-02-28\\tb,g,f\\tjjj:12,bbb:3,ddd:9,ggg:8,hhh:2'], dtype='object')\n"
     ]
    }
   ],
   "source": [
    "print(df.columns)"
   ]
  },
  {
   "cell_type": "code",
   "execution_count": 17,
   "id": "f2814144",
   "metadata": {},
   "outputs": [
    {
     "data": {
      "text/html": [
       "<div>\n",
       "<style scoped>\n",
       "    .dataframe tbody tr th:only-of-type {\n",
       "        vertical-align: middle;\n",
       "    }\n",
       "\n",
       "    .dataframe tbody tr th {\n",
       "        vertical-align: top;\n",
       "    }\n",
       "\n",
       "    .dataframe thead th {\n",
       "        text-align: right;\n",
       "    }\n",
       "</style>\n",
       "<table border=\"1\" class=\"dataframe\">\n",
       "  <thead>\n",
       "    <tr style=\"text-align: right;\">\n",
       "      <th></th>\n",
       "      <th>E\\t1\\t1999-02-28\\tb,g,f\\tjjj:12,bbb:3,ddd:9,ggg:8,hhh:2</th>\n",
       "    </tr>\n",
       "  </thead>\n",
       "  <tbody>\n",
       "    <tr>\n",
       "      <th>0</th>\n",
       "      <td>A\\t2\\t1999-10-28\\ta,f,c\\tccc:2,ddd:0,aaa:3,hhh:9</td>\n",
       "    </tr>\n",
       "    <tr>\n",
       "      <th>1</th>\n",
       "      <td>B\\t5\\t1998-05-02\\tf,e,a,c\\tddd:2,ggg:5,ccc:6,j...</td>\n",
       "    </tr>\n",
       "    <tr>\n",
       "      <th>2</th>\n",
       "      <td>A\\t3\\t1999-08-28\\ta,b\\thhh:9,iii:5,eee:7,bbb:1</td>\n",
       "    </tr>\n",
       "    <tr>\n",
       "      <th>3</th>\n",
       "      <td>C\\t6\\t1999-12-01\\tf,g,d,a\\tiii:6,ddd:5,eee:4,j...</td>\n",
       "    </tr>\n",
       "    <tr>\n",
       "      <th>4</th>\n",
       "      <td>A\\t7\\t1998-07-28\\tc,d\\tbbb:2,hhh:0,ccc:4,fff:1...</td>\n",
       "    </tr>\n",
       "  </tbody>\n",
       "</table>\n",
       "</div>"
      ],
      "text/plain": [
       "  E\\t1\\t1999-02-28\\tb,g,f\\tjjj:12,bbb:3,ddd:9,ggg:8,hhh:2\n",
       "0   A\\t2\\t1999-10-28\\ta,f,c\\tccc:2,ddd:0,aaa:3,hhh:9     \n",
       "1  B\\t5\\t1998-05-02\\tf,e,a,c\\tddd:2,ggg:5,ccc:6,j...     \n",
       "2     A\\t3\\t1999-08-28\\ta,b\\thhh:9,iii:5,eee:7,bbb:1     \n",
       "3  C\\t6\\t1999-12-01\\tf,g,d,a\\tiii:6,ddd:5,eee:4,j...     \n",
       "4  A\\t7\\t1998-07-28\\tc,d\\tbbb:2,hhh:0,ccc:4,fff:1...     "
      ]
     },
     "execution_count": 17,
     "metadata": {},
     "output_type": "execute_result"
    }
   ],
   "source": [
    "df.head()"
   ]
  },
  {
   "cell_type": "code",
   "execution_count": 20,
   "id": "b789fb77",
   "metadata": {},
   "outputs": [],
   "source": [
    "#Pregunta 1\n",
    "\"Retorne la suma de la segunda columna.\"\n",
    "suma=0\n",
    "with open('data.csv') as archivo_csv:\n",
    "    lineas=archivo_csv.readlines()"
   ]
  },
  {
   "cell_type": "code",
   "execution_count": 21,
   "id": "9c67eca8",
   "metadata": {},
   "outputs": [
    {
     "name": "stdout",
     "output_type": "stream",
     "text": [
      "['E\\t1\\t1999-02-28\\tb,g,f\\tjjj:12,bbb:3,ddd:9,ggg:8,hhh:2\\n', 'A\\t2\\t1999-10-28\\ta,f,c\\tccc:2,ddd:0,aaa:3,hhh:9\\n', 'B\\t5\\t1998-05-02\\tf,e,a,c\\tddd:2,ggg:5,ccc:6,jjj:12\\n', 'A\\t3\\t1999-08-28\\ta,b\\thhh:9,iii:5,eee:7,bbb:1\\n', 'C\\t6\\t1999-12-01\\tf,g,d,a\\tiii:6,ddd:5,eee:4,jjj:12\\n', 'A\\t7\\t1998-07-28\\tc,d\\tbbb:2,hhh:0,ccc:4,fff:1,aaa:7\\n', 'A\\t9\\t1997-02-28\\tg,d,a\\taaa:5,fff:8,ddd:2,iii:0,jjj:7,ccc:1\\n', 'B\\t1\\t1999-05-10\\tb,a\\tfff:3,hhh:1,ddd:2\\n', 'E\\t2\\t1997-04-12\\td,e,a,f\\teee:4,ccc:5,iii:9,fff:7,ggg:6,bbb:2\\n', 'B\\t3\\t1999-11-23\\td,b,g,f\\tbbb:7,jjj:9,fff:5,iii:4,ggg:3,eee:3\\n', 'C\\t7\\t1998-01-17\\td,c,f,b\\thhh:6,eee:4,iii:0,fff:2,jjj:12\\n', 'C\\t5\\t1998-12-28\\td,e,a,c\\tbbb:7,iii:6,ggg:9\\n', 'D\\t3\\t1999-10-15\\tg,e,f,b\\tbbb:9,aaa:3,ccc:6,fff:4,eee:2\\n', 'E\\t8\\t1998-11-01\\tc,f\\taaa:8,ddd:5,jjj:12\\n', 'B\\t9\\t1999-08-12\\td,b\\tccc:7,jjj:6,fff:7,ddd:3,aaa:2\\n', 'D\\t8\\t1997-12-01\\tf,e\\tccc:8,eee:6,bbb:9,ddd:3\\n', 'E\\t3\\t1997-07-28\\te,b,f\\tbbb:6,iii:3,hhh:5,fff:4,ggg:9,ddd:2\\n', 'D\\t5\\t1998-08-12\\tg,a\\thhh:4,jjj:5,ccc:9\\n', 'E\\t8\\t1999-08-24\\te,c,f,a\\tccc:1,iii:6,fff:9\\n', 'E\\t9\\t1998-01-23\\te,a\\tbbb:9,aaa:3,fff:1\\n', 'E\\t7\\t1999-06-22\\te,f\\tddd:9,iii:2,aaa:4\\n', 'E\\t3\\t1999-04-24\\tc,b,g\\tccc:5,fff:8,iii:7\\n', 'D\\t5\\t1999-06-25\\tc,f,a\\teee:3,jjj:17,ddd:7\\n', 'A\\t9\\t1999-08-25\\tf,a,d\\tjjj:12,ggg:7,ccc:7,ddd:9,bbb:3\\n', 'E\\t4\\t1997-07-26\\tc,d\\tjjj:6,ccc:4,aaa:1,hhh:9,iii:7,ggg:8\\n', 'E\\t6\\t1997-09-24\\te,d,c\\tfff:3,eee:6,iii:4,bbb:7,ddd:4,ccc:1\\n', 'A\\t8\\t1997-09-28\\ta,e,f\\tfff:0,ddd:5,ccc:4\\n', 'E\\t5\\t1999-06-22\\tc,a,g\\tggg:6,hhh:3,ddd:9,ccc:10,jjj:7\\n', 'A\\t6\\t1999-07-29\\tf,e\\thhh:6,jjj:13,eee:5,iii:7,ccc:3\\n', 'C\\t0\\t1999-08-22\\tf,c,a,g\\teee:1,fff:4,aaa:2,ccc:7,ggg:10,ddd:6\\n', 'A\\t9\\t1998-04-26\\tb,f\\tccc:6,aaa:9,eee:5,ddd:0,bbb:3\\n', 'D\\t3\\t1998-02-24\\tb,f\\tbbb:7,hhh:1,aaa:6,iii:4,fff:9,ddd:5\\n', 'E\\t5\\t1999-03-24\\ta,c\\tfff:3,ccc:1,ggg:3,eee:5\\n', 'B\\t4\\t1998-03-23\\tb,f,c\\tiii:7,ggg:3,ddd:0,jjj:8,hhh:5,ccc:1\\n', 'B\\t6\\t1999-04-21\\tf,a,e\\thhh:6,ccc:3,jjj:9,bbb:8,ddd:7\\n', 'D\\t7\\t1999-02-29\\ta,f\\taaa:1,fff:5,ddd:3\\n', 'B\\t8\\t1997-05-21\\tc,a\\tddd:5,jjj:17,iii:7,ccc:10,bbb:4\\n', 'C\\t9\\t1997-07-22\\tc,a,e,f\\teee:3,fff:2,hhh:6\\n', 'E\\t1\\t1999-09-28\\te,d\\tfff:9,iii:2,eee:5\\n', 'E\\t5\\t1998-01-26\\tf,a,d\\thhh:8,ggg:3,jjj:5\\n']\n"
     ]
    }
   ],
   "source": [
    "print(lineas)"
   ]
  },
  {
   "cell_type": "code",
   "execution_count": 12,
   "id": "0bdb7f18",
   "metadata": {},
   "outputs": [
    {
     "name": "stdout",
     "output_type": "stream",
     "text": [
      "214\n"
     ]
    }
   ],
   "source": [
    "#Pregunta 1\n",
    "\"Retorne la suma de la segunda columna.\"\n",
    "suma=0\n",
    "with open('data.csv') as archivo_csv:\n",
    "    lineas=archivo_csv.readlines()\n",
    "    for linea in lineas:\n",
    "        cols=linea.split('\\t')\n",
    "        col_2 = int(cols[1])\n",
    "        suma += col_2\n",
    "print(suma)"
   ]
  },
  {
   "cell_type": "code",
   "execution_count": 44,
   "id": "5a9ea568",
   "metadata": {},
   "outputs": [],
   "source": [
    "#Pregunta 2\n",
    "\"\"\"Retorne la cantidad de registros por cada letra de la primera columna como la lista \n",
    "de tuplas (letra, cantidad), ordenadas alfabéticamente.\"\"\"\n",
    "\n",
    "conteo={}\n",
    "with open('data.csv') as archivo_csv:\n",
    "    lineas = archivo_csv.readlines()\n",
    "    for linea in lineas: \n",
    "        cols=linea.split('\\t')\n",
    "        letra=cols[0]\n",
    "        if letra in conteo.keys():\n",
    "            conteo[letra] += 1\n",
    "        else:\n",
    "            conteo[letra] = 1\n",
    "            \n",
    "conteo_ordenado = dict(sorted(conteo.items()))"
   ]
  },
  {
   "cell_type": "code",
   "execution_count": 42,
   "id": "ad269074",
   "metadata": {},
   "outputs": [
    {
     "name": "stdout",
     "output_type": "stream",
     "text": [
      "[('A', 8), ('B', 7), ('C', 5), ('D', 6), ('E', 14)]\n"
     ]
    }
   ],
   "source": [
    "#Método 1\n",
    "lista = list(conteo_ordenado.items())\n",
    "print(lista)"
   ]
  },
  {
   "cell_type": "code",
   "execution_count": null,
   "id": "ea789416",
   "metadata": {},
   "outputs": [
    {
     "name": "stdout",
     "output_type": "stream",
     "text": [
      "[('A', 8), ('B', 7), ('C', 5), ('D', 6), ('E', 14)]\n"
     ]
    }
   ],
   "source": [
    "#Método 2 - Más largo\n",
    "lista = [(letra, cantidad) for letra, cantidad in conteo_ordenado.items()]\n",
    "\n",
    "print(lista)"
   ]
  },
  {
   "cell_type": "code",
   "execution_count": null,
   "id": "c554148c",
   "metadata": {},
   "outputs": [
    {
     "name": "stdout",
     "output_type": "stream",
     "text": [
      "[([...], 8), ([...], 7), ([...], 5), ([...], 6), ([...], 14)]\n"
     ]
    }
   ],
   "source": [
    "#Método 3\n",
    "\"\"\"lista = []\n",
    "for letra, cantidad in conteo_ordenado.items():\n",
    "    lista.append((lista, cantidad))\n",
    "print(lista)\"\"\"#No da el mismo resultado\n"
   ]
  },
  {
   "cell_type": "code",
   "execution_count": null,
   "id": "b797f5a9",
   "metadata": {},
   "outputs": [],
   "source": [
    "#Pregunta 3"
   ]
  }
 ],
 "metadata": {
  "kernelspec": {
   "display_name": ".venv",
   "language": "python",
   "name": "python3"
  },
  "language_info": {
   "codemirror_mode": {
    "name": "ipython",
    "version": 3
   },
   "file_extension": ".py",
   "mimetype": "text/x-python",
   "name": "python",
   "nbconvert_exporter": "python",
   "pygments_lexer": "ipython3",
   "version": "3.8.8"
  }
 },
 "nbformat": 4,
 "nbformat_minor": 5
}
